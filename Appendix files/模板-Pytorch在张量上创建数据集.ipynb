{
 "cells": [
  {
   "cell_type": "code",
   "execution_count": null,
   "metadata": {},
   "outputs": [],
   "source": [
    "import torch\n",
    "from torch.utils.data import DataLoader, TensorDataset\n",
    "\n",
    "# 创建一些示例数据\n",
    "features = torch.randn(100, 10)  # 100个样本，每个样本10个特征\n",
    "labels = torch.randn(100, 1)      # 100个标签\n",
    "\n",
    "# 创建 TensorDataset\n",
    "dataset = TensorDataset(features, labels)\n",
    "\n",
    "# 创建 DataLoader\n",
    "dataloader = DataLoader(dataset, batch_size=16, shuffle=True)\n",
    "\n",
    "# 遍历 DataLoader\n",
    "for batch_features, batch_labels in dataloader:\n",
    "    # 在这里可以进行训练或评估\n",
    "    print(batch_features.size(), batch_labels.size())"
   ]
  }
 ],
 "metadata": {
  "kernelspec": {
   "display_name": "xy_ultra",
   "language": "python",
   "name": "python3"
  },
  "language_info": {
   "name": "python",
   "version": "3.8.17"
  }
 },
 "nbformat": 4,
 "nbformat_minor": 2
}
